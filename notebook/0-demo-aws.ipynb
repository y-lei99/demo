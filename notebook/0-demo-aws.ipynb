{
 "cells": [
  {
   "cell_type": "markdown",
   "metadata": {},
   "source": [
    "## Search for data on AWS"
   ]
  },
  {
   "cell_type": "code",
   "execution_count": null,
   "metadata": {},
   "outputs": [],
   "source": [
    "#https://github.com/sat-utils/sat-search\n",
    "from satsearch import Search\n",
    "from satstac import Items\n",
    "import json\n",
    "import geopandas as gpd\n",
    "\n",
    "import matplotlib.pyplot as plt\n",
    "%matplotlib inline"
   ]
  },
  {
   "cell_type": "code",
   "execution_count": null,
   "metadata": {},
   "outputs": [],
   "source": [
    "# Add an area of interest polygon to search\n",
    "#geojson.io\n",
    "with open('wa-bbox.json') as f:\n",
    "    aoi = json.loads(f.read())"
   ]
  },
  {
   "cell_type": "code",
   "execution_count": null,
   "metadata": {},
   "outputs": [],
   "source": [
    "# Custom syntax (additional fields, query strings instead of query dict)\n",
    "properties =  [\"eo:row=027\",\n",
    "               \"eo:column=047\",\n",
    "               \"landsat:tier=T1\"] \n",
    "results = Search.search(collection='landsat-8-l1', \n",
    "                        intersects=aoi, \n",
    "                        sort=['<datetime'], #earliest scene first\n",
    "                        property=properties)\n",
    "print('%s items' % results.found())"
   ]
  },
  {
   "cell_type": "code",
   "execution_count": null,
   "metadata": {},
   "outputs": [],
   "source": [
    "# Save for later/sharing with others\n",
    "items = results.items()\n",
    "items.save('items.json')\n",
    "items = Items.load('items.json')\n",
    "#items.bbox()"
   ]
  },
  {
   "cell_type": "code",
   "execution_count": null,
   "metadata": {},
   "outputs": [],
   "source": [
    "# Load results to pandas geodataframe\n",
    "gf = gpd.read_file('items.json')\n",
    "gf = gf.sort_values('datetime').reset_index(drop=True)\n",
    "print('records:', len(gf))\n",
    "gf.head()"
   ]
  },
  {
   "cell_type": "code",
   "execution_count": null,
   "metadata": {},
   "outputs": [],
   "source": [
    "# Plot search AOI and frames on a map\n",
    "import holoviews as hv\n",
    "import hvplot.xarray\n",
    "import hvplot.pandas\n",
    "import geoviews as gv\n",
    "\n",
    "footprints = gf.loc[:,('id','geometry')].hvplot(geo=True)\n",
    "tiles = gv.tile_sources.CartoEco.options(width=700, height=500).redim.range(Latitude=(45, 50), Longitude=(-126,-120)) \n",
    "labels = gv.tile_sources.StamenLabels.options(level='annotation')\n",
    "tiles * footprints * labels"
   ]
  },
  {
   "cell_type": "code",
   "execution_count": null,
   "metadata": {},
   "outputs": [],
   "source": [
    "# Alternatively see https://landsat.stac.cloud/item/kcPK8Xt2XpdjqL3FVBDhJz2EjeXsYtz7xh/5vNQJWyXHzm2VzS4b4KaeT4w9fWu5Qnp8uqqnS77/ZCMYCwtTqUMQ5JXpM4aiuM2qaDboboHpy3Dc1KzTSukAh/zBTMeeQQWjwvEEJZpQpk4TuF6nAUc5gUUXcmZyxchWxbYg2VJw6gRVD5cJbcr9hx3Wp8vVu28gPDc3o?si=0&t=thumbnail#8/47.458510/-123.386500\n",
    "from ipywidgets import interact\n",
    "from IPython.display import display, Image\n",
    "\n",
    "def browse_images(items):\n",
    "    n = len(items)\n",
    "\n",
    "    def view_image(i=0):\n",
    "        item = items[i]\n",
    "        print(f\"id={item.id}\\tdate={item.datetime}\\tcloud%={item['eo:cloud_cover']}\")\n",
    "        display(Image(item.asset('thumbnail')['href']))\n",
    "    \n",
    "    interact(view_image, i=(0,n-1))\n",
    "    \n"
   ]
  },
  {
   "cell_type": "code",
   "execution_count": null,
   "metadata": {},
   "outputs": [],
   "source": [
    "browse_images(items)"
   ]
  },
  {
   "cell_type": "markdown",
   "metadata": {},
   "source": [
    "# Plotting and analysis"
   ]
  },
  {
   "cell_type": "code",
   "execution_count": null,
   "metadata": {},
   "outputs": [],
   "source": [
    "# Load into xarray and do computations with dask\n",
    "# Select 10 'workers' under 'manual scaling' menu below and click 'Scale'\n",
    "# Click on the 'Dashboard link' to monitor calculation progress\n",
    "import dask\n",
    "from dask_kubernetes import KubeCluster\n",
    "from dask.distributed import Client\n",
    "from dask.distributed import wait, progress\n",
    "\n",
    "cluster = KubeCluster(n_workers=10)\n",
    "cluster"
   ]
  },
  {
   "cell_type": "code",
   "execution_count": null,
   "metadata": {},
   "outputs": [],
   "source": [
    "# Make cluster adaptive\n",
    "cluster.adapt(maximum=10);"
   ]
  },
  {
   "cell_type": "code",
   "execution_count": null,
   "metadata": {},
   "outputs": [],
   "source": [
    "# Attach Dask to the cluster\n",
    "client = Client(cluster)"
   ]
  },
  {
   "cell_type": "code",
   "execution_count": null,
   "metadata": {},
   "outputs": [],
   "source": [
    "# Import required libraries\n",
    "import rasterio\n",
    "import xarray as xr\n",
    "import hvplot.xarray\n",
    "import hvplot.pandas"
   ]
  },
  {
   "cell_type": "code",
   "execution_count": null,
   "metadata": {},
   "outputs": [],
   "source": [
    "env = rasterio.Env(GDAL_DISABLE_READDIR_ON_OPEN='EMPTY_DIR',\n",
    "                  CPL_VSIL_CURL_USE_HEAD=False,\n",
    "                  CPL_VSIL_CURL_ALLOWED_EXTENSIONS='TIF',\n",
    "                 )"
   ]
  },
  {
   "cell_type": "code",
   "execution_count": null,
   "metadata": {},
   "outputs": [],
   "source": [
    "# Plot single band, full resolution\n",
    "item = items[5]\n",
    "print(item.assets.keys())\n",
    "print(item.assets_by_common_name.keys())\n",
    "\n",
    "with env:\n",
    "    with rasterio.open(item.asset('red')['href']) as src:\n",
    "        width = src.width\n",
    "        blockx = src.profile['blockxsize']\n",
    "        blocky = src.profile['blockysize']\n",
    "        #print(src.profile)\n",
    "        xchunk = int(width/blockx)*blockx\n",
    "        ychunk = blocky\n",
    "        da = xr.open_rasterio(src, chunks={'band': 1, 'x': xchunk, 'y': ychunk})\n",
    "da"
   ]
  },
  {
   "cell_type": "code",
   "execution_count": null,
   "metadata": {},
   "outputs": [],
   "source": [
    "print(item.date)\n",
    "img = da.hvplot.image(rasterize=True, width=700, height=500, cmap='magma')\n",
    "img"
   ]
  },
  {
   "cell_type": "code",
   "execution_count": null,
   "metadata": {},
   "outputs": [],
   "source": [
    "# Display with reprojection to lat/lon\n",
    "print(item.date)\n",
    "from cartopy import crs as ccrs\n",
    "crs = ccrs.UTM(zone='10n') #hvplot needs to know original CRS\n",
    "img = da.hvplot.image(crs=crs,rasterize=True, width=700, height=500, cmap='magma')\n",
    "img"
   ]
  },
  {
   "cell_type": "code",
   "execution_count": null,
   "metadata": {},
   "outputs": [],
   "source": [
    "# Get single image\n",
    "import intake\n",
    "cat = intake.Catalog('intake-landsat-aws.yaml')\n",
    "ds = cat.aws_landsat_8_singleband(url=item.asset('B1')['href']).to_dask()\n",
    "ds"
   ]
  },
  {
   "cell_type": "code",
   "execution_count": null,
   "metadata": {},
   "outputs": [],
   "source": [
    "# All 30m bands for particular item\n",
    "row = item[\"eo:row\"]\n",
    "path = item[\"eo:column\"]\n",
    "pid = item['landsat:product_id']\n",
    "ds = cat.aws_landsat_8_30m(path=path, row=row, pid=pid).to_dask()\n",
    "ds"
   ]
  },
  {
   "cell_type": "code",
   "execution_count": null,
   "metadata": {},
   "outputs": [],
   "source": [
    "print(item.date)\n",
    "img = ds.hvplot.image('x', 'y', groupby='band', rasterize=True, width=700, height=500, cmap='magma')\n",
    "img"
   ]
  },
  {
   "cell_type": "code",
   "execution_count": null,
   "metadata": {},
   "outputs": [],
   "source": [
    "# A bigger calculation - all ndvi\n",
    "# option 1) download only NIR and Red bands locally\n",
    "#redtifs = items.download('red', path='red/${date}')\n",
    "#nirtifs = items.download('nir', path='nir/${date}')"
   ]
  },
  {
   "cell_type": "code",
   "execution_count": null,
   "metadata": {},
   "outputs": [],
   "source": [
    "def create_ndvi_dataset(item, chunks={'band': 1, 'x': xchunk, 'y': ychunk}):\n",
    "    '''A function to load multiple landsat bands into an xarray dataset'''\n",
    "    row = item[\"eo:row\"]\n",
    "    path = item[\"eo:column\"]\n",
    "    pid = item['landsat:product_id']\n",
    "    ds = cat.aws_landsat_8_ndvi(path=path, row=row, pid=pid).to_dask()\n",
    "    \n",
    "    return ds"
   ]
  },
  {
   "cell_type": "code",
   "execution_count": null,
   "metadata": {},
   "outputs": [],
   "source": [
    "# Merge all acquisitions into a single large Dataset, \n",
    "# this may take a minute b/c running sequentially on local machine\n",
    "from ipywidgets import IntProgress\n",
    "from IPython.display import display\n",
    "probar = IntProgress(value=0, min=0, max=len(items), step=1, \n",
    "                     description='Loading:')\n",
    "display(probar)\n",
    "\n",
    "datasets = []\n",
    "for item in items:\n",
    "    probar.value += 1\n",
    "    try:\n",
    "        #print('loading...', item.date)\n",
    "        ds = create_ndvi_dataset(item)\n",
    "        datasets.append(ds)\n",
    "    except Exception as e:\n",
    "        print('ERROR loading, skipping acquistion!')\n",
    "        print(e)"
   ]
  },
  {
   "cell_type": "code",
   "execution_count": null,
   "metadata": {},
   "outputs": [],
   "source": [
    "# Create an xarray data array\n",
    "# This takes a while to expand dimensions\n",
    "index = gpd.pd.DatetimeIndex(items.dates(), name='time')\n",
    "da = xr.concat(datasets, dim=index)\n",
    "print('Dataset size (Gb): ', da.nbytes/1e9)\n",
    "da"
   ]
  },
  {
   "cell_type": "code",
   "execution_count": null,
   "metadata": {},
   "outputs": [],
   "source": [
    "# Can rearrange so that each band is a 'data variable' in a dataset\n",
    "DS = da.to_dataset(dim='band')\n",
    "DS"
   ]
  },
  {
   "cell_type": "code",
   "execution_count": null,
   "metadata": {},
   "outputs": [],
   "source": [
    "# Can adjust dask chunks if desired:\n",
    "# (they get automatically adjusted when concatenating)\n",
    "xchunk = DS.dims['x']\n",
    "chunks = {'x': xchunk, 'y': ychunk}\n",
    "DS = DS.chunk(chunks)\n",
    "DS"
   ]
  },
  {
   "cell_type": "code",
   "execution_count": null,
   "metadata": {},
   "outputs": [],
   "source": [
    "# Nothing actually computed yet\n",
    "NDVI = (DS[5] - DS[4]) / (DS[5] + DS[4])\n",
    "NDVI"
   ]
  },
  {
   "cell_type": "code",
   "execution_count": null,
   "metadata": {},
   "outputs": [],
   "source": [
    "# Make an interactive plot that records clicked points\n",
    "taps = []\n",
    "def record_coords(x, y):\n",
    "    if None not in [x,y]:\n",
    "        taps.append([x, y])\n",
    "    return hv.Points(taps)"
   ]
  },
  {
   "cell_type": "code",
   "execution_count": null,
   "metadata": {},
   "outputs": [],
   "source": [
    "# NOTE: this will take a minute to load and is best viewed on a wide monitor\n",
    "# the time slider can get hidden on small screens\n",
    "img = NDVI.hvplot('x', 'y', groupby='time', dynamic=True, rasterize=True, width=700, height=500, cmap='magma')\n",
    "tap = hv.streams.SingleTap(transient=True, source=img)\n",
    "clicked_points = hv.DynamicMap(record_coords, streams=[tap])\n",
    "\n",
    "img * clicked_points.options(size=10, color='w')"
   ]
  },
  {
   "cell_type": "code",
   "execution_count": null,
   "metadata": {},
   "outputs": [],
   "source": [
    "# Points clicked are stored in the 'taps list'\n",
    "if len(taps) == 0:\n",
    "    taps = [(562370, 5312519)]\n",
    "\n",
    "print('Selected points:')\n",
    "taps"
   ]
  },
  {
   "cell_type": "code",
   "execution_count": null,
   "metadata": {},
   "outputs": [],
   "source": [
    "xcen,ycen = taps[0]\n",
    "buf = 1000  # look at point +/- 1km\n",
    "ds = NDVI.sel(x=slice(xcen-buf,xcen+buf), y=slice(ycen-buf,ycen+buf))\n",
    "ds.sel(time=slice('2015-01-01', '2015-06-15')).plot.imshow('x', 'y', col='time', col_wrap=4, cmap='magma', vmin=0, vmax=1)"
   ]
  },
  {
   "cell_type": "code",
   "execution_count": null,
   "metadata": {},
   "outputs": [],
   "source": [
    "ds = NDVI.sel(x=xcen, y=ycen, method='nearest')\n",
    "timeseries = ds.resample(time='1MS').mean().persist()\n",
    "s = timeseries.to_series()  #pandas seriers"
   ]
  },
  {
   "cell_type": "code",
   "execution_count": null,
   "metadata": {},
   "outputs": [],
   "source": [
    "# Plot timeseries with HVplot\n",
    "# Holoviews is also great for interative 2D plots\n",
    "line = s.hvplot(width=700, height=300, legend=False)\n",
    "points = s.hvplot.scatter(width=700, height=300, legend=False)\n",
    "label = f'Mean NDVI: easting={xcen:g} , northing={ycen:g}'\n",
    "\n",
    "(line * points).relabel(label)"
   ]
  },
  {
   "cell_type": "code",
   "execution_count": null,
   "metadata": {},
   "outputs": [],
   "source": []
  }
 ],
 "metadata": {
  "kernelspec": {
   "display_name": "Python 3",
   "language": "python",
   "name": "python3"
  },
  "language_info": {
   "codemirror_mode": {
    "name": "ipython",
    "version": 3
   },
   "file_extension": ".py",
   "mimetype": "text/x-python",
   "name": "python",
   "nbconvert_exporter": "python",
   "pygments_lexer": "ipython3",
   "version": "3.6.7"
  }
 },
 "nbformat": 4,
 "nbformat_minor": 2
}
